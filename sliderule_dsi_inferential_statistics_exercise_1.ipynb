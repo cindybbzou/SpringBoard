{
 "cells": [
  {
   "cell_type": "markdown",
   "metadata": {},
   "source": [
    "# What is the True Normal Human Body Temperature? \n",
    "\n",
    "#### Background\n",
    "\n",
    "The mean normal body temperature was held to be 37$^{\\circ}$C or 98.6$^{\\circ}$F for more than 120 years since it was first conceptualized and reported by Carl Wunderlich in a famous 1868 book. But, is this value statistically correct?"
   ]
  },
  {
   "cell_type": "markdown",
   "metadata": {},
   "source": [
    "<h3>Exercises</h3>\n",
    "\n",
    "<p>In this exercise, you will analyze a dataset of human body temperatures and employ the concepts of hypothesis testing, confidence intervals, and statistical significance.</p>\n",
    "\n",
    "<p>Answer the following questions <b>in this notebook below and submit to your Github account</b>.</p> \n",
    "\n",
    "<ol>\n",
    "<li>  Is the distribution of body temperatures normal? \n",
    "    <ul>\n",
    "    <li> Although this is not a requirement for CLT to hold (read CLT carefully), it gives us some peace of mind that the population may also be normally distributed if we assume that this sample is representative of the population.\n",
    "    </ul>\n",
    "<li>  Is the sample size large? Are the observations independent?\n",
    "    <ul>\n",
    "    <li> Remember that this is a condition for the CLT, and hence the statistical tests we are using, to apply.\n",
    "    </ul>\n",
    "<li>  Is the true population mean really 98.6 degrees F?\n",
    "    <ul>\n",
    "    <li> Would you use a one-sample or two-sample test? Why?\n",
    "    <li> In this situation, is it appropriate to use the $t$ or $z$ statistic? \n",
    "    <li> Now try using the other test. How is the result be different? Why?\n",
    "    </ul>\n",
    "<li>  Draw a small sample of size 10 from the data and repeat both tests. \n",
    "    <ul>\n",
    "    <li> Which one is the correct one to use? \n",
    "    <li> What do you notice? What does this tell you about the difference in application of the $t$ and $z$ statistic?\n",
    "    </ul>\n",
    "<li>  At what temperature should we consider someone's temperature to be \"abnormal\"?\n",
    "    <ul>\n",
    "    <li> Start by computing the margin of error and confidence interval.\n",
    "    </ul>\n",
    "<li>  Is there a significant difference between males and females in normal temperature?\n",
    "    <ul>\n",
    "    <li> What test did you use and why?\n",
    "    <li> Write a story with your conclusion in the context of the original problem.\n",
    "    </ul>\n",
    "</ol>\n",
    "\n",
    "You can include written notes in notebook cells using Markdown: \n",
    "   - In the control panel at the top, choose Cell > Cell Type > Markdown\n",
    "   - Markdown syntax: http://nestacms.com/docs/creating-content/markdown-cheat-sheet\n",
    "\n",
    "#### Resources\n",
    "\n",
    "+ Information and data sources: http://www.amstat.org/publications/jse/datasets/normtemp.txt, http://www.amstat.org/publications/jse/jse_data_archive.htm\n",
    "+ Markdown syntax: http://nestacms.com/docs/creating-content/markdown-cheat-sheet\n",
    "\n",
    "****"
   ]
  },
  {
   "cell_type": "code",
   "execution_count": 1,
   "metadata": {
    "collapsed": true
   },
   "outputs": [],
   "source": [
    "import pandas as pd\n",
    "\n",
    "df = pd.read_csv('data/human_body_temperature.csv')"
   ]
  },
  {
   "cell_type": "code",
   "execution_count": 3,
   "metadata": {
    "collapsed": true
   },
   "outputs": [],
   "source": [
    "import numpy as np\n",
    "import matplotlib.pyplot as plt\n",
    "import seaborn as sns"
   ]
  },
  {
   "cell_type": "code",
   "execution_count": 6,
   "metadata": {},
   "outputs": [
    {
     "data": {
      "text/html": [
       "<div>\n",
       "<style>\n",
       "    .dataframe thead tr:only-child th {\n",
       "        text-align: right;\n",
       "    }\n",
       "\n",
       "    .dataframe thead th {\n",
       "        text-align: left;\n",
       "    }\n",
       "\n",
       "    .dataframe tbody tr th {\n",
       "        vertical-align: top;\n",
       "    }\n",
       "</style>\n",
       "<table border=\"1\" class=\"dataframe\">\n",
       "  <thead>\n",
       "    <tr style=\"text-align: right;\">\n",
       "      <th></th>\n",
       "      <th>temperature</th>\n",
       "      <th>gender</th>\n",
       "      <th>heart_rate</th>\n",
       "    </tr>\n",
       "  </thead>\n",
       "  <tbody>\n",
       "    <tr>\n",
       "      <th>0</th>\n",
       "      <td>99.3</td>\n",
       "      <td>F</td>\n",
       "      <td>68.0</td>\n",
       "    </tr>\n",
       "    <tr>\n",
       "      <th>1</th>\n",
       "      <td>98.4</td>\n",
       "      <td>F</td>\n",
       "      <td>81.0</td>\n",
       "    </tr>\n",
       "    <tr>\n",
       "      <th>2</th>\n",
       "      <td>97.8</td>\n",
       "      <td>M</td>\n",
       "      <td>73.0</td>\n",
       "    </tr>\n",
       "    <tr>\n",
       "      <th>3</th>\n",
       "      <td>99.2</td>\n",
       "      <td>F</td>\n",
       "      <td>66.0</td>\n",
       "    </tr>\n",
       "    <tr>\n",
       "      <th>4</th>\n",
       "      <td>98.0</td>\n",
       "      <td>F</td>\n",
       "      <td>73.0</td>\n",
       "    </tr>\n",
       "  </tbody>\n",
       "</table>\n",
       "</div>"
      ],
      "text/plain": [
       "   temperature gender  heart_rate\n",
       "0         99.3      F        68.0\n",
       "1         98.4      F        81.0\n",
       "2         97.8      M        73.0\n",
       "3         99.2      F        66.0\n",
       "4         98.0      F        73.0"
      ]
     },
     "execution_count": 6,
     "metadata": {},
     "output_type": "execute_result"
    }
   ],
   "source": [
    "df.head(5)"
   ]
  },
  {
   "cell_type": "markdown",
   "metadata": {},
   "source": [
    "The first question we are trying to answer is that if temperature of the given data set is normally distributed. "
   ]
  },
  {
   "cell_type": "code",
   "execution_count": 14,
   "metadata": {},
   "outputs": [
    {
     "data": {
      "image/png": "[encoded data removed]",
      "text/plain": [
       "<matplotlib.figure.Figure at 0x1109616d8>"
      ]
     },
     "metadata": {},
     "output_type": "display_data"
    }
   ],
   "source": [
    "def ecdf(data):\n",
    "    #compute ECDF of one-dimensional array of measurements\n",
    "    n =len(data)\n",
    "    #x data of ECDF\n",
    "    x = np.sort(data)\n",
    "    #y data of ECDF\n",
    "    y = np.arange(1, n+1)/n\n",
    "    return x, y\n",
    "\n",
    "mean = np.mean(df['temperature'])\n",
    "std = np.std(df['temperature'])\n",
    "samples = np.random.normal(mean, std, 10000)\n",
    "x,y = ecdf(df['temperature'])\n",
    "x_sample,y_sample = ecdf(samples)\n",
    "\n",
    "sns.set()\n",
    "plt.plot(x,y,marker='.', linestyle='none')\n",
    "plt.plot(x_sample, y_sample)\n",
    "plt.xlabel('human temperature F')\n",
    "plt.ylabel('CDF')\n",
    "plt.show()"
   ]
  },
  {
   "cell_type": "markdown",
   "metadata": {},
   "source": [
    "By plotting the ECDF of normally distributed sampling data with the ECDF of emperical temperate data, the plot shows clearly that temperature data overlaid on top of the sampling data, which indicates that temperature data is normally distributed as well."
   ]
  },
  {
   "cell_type": "markdown",
   "metadata": {},
   "source": [
    "The second question we are trying to answer is that if the sample size is large, or are the observations independent? "
   ]
  },
  {
   "cell_type": "code",
   "execution_count": 25,
   "metadata": {},
   "outputs": [
    {
     "name": "stdout",
     "output_type": "stream",
     "text": [
      "mean of observations =  98.24923076923078\n",
      "95% confidence interval =  [ 98.12382692  98.37538462]\n"
     ]
    },
    {
     "data": {
      "image/png": "[encoded data removed]",
      "text/plain": [
       "<matplotlib.figure.Figure at 0x111027438>"
      ]
     },
     "metadata": {},
     "output_type": "display_data"
    }
   ],
   "source": [
    "def bootstrap_replicate(data, func):\n",
    "    bs_samples = np.random.choice(data, len(data))\n",
    "    return func(bs_samples)\n",
    "\n",
    "def draw_bs_replicates(data, func, size):\n",
    "    bs_replicates = np.empty(size)\n",
    "    for i in range(size):\n",
    "        bs_replicates[i] = bootstrap_replicate(data, func)\n",
    "    return bs_replicates\n",
    "\n",
    "bs_temp_replicates = draw_bs_replicates(df['temperature'], np.mean, 10000)\n",
    "\n",
    "conf_inte = np.percentile(bs_temp_replicates, [2.5, 97.5])\n",
    "\n",
    "print('mean of observations = ', np.mean(df['temperature']))\n",
    "print('95% confidence interval = ', conf_inte)\n",
    "plt.hist(bs_temp_replicates, bins=10, normed=True)\n",
    "plt.xlabel('mean of human temperature F')\n",
    "plt.ylabel('PDF')\n",
    "plt.show()"
   ]
  },
  {
   "cell_type": "markdown",
   "metadata": {},
   "source": [
    "In order to check if the observations of temperature data are independent or not, we set up a statistical test for the mean of human temperature by bootstraping confidence intervals with 10000 replicates. The histgram shows that the 95% confidence interval lands perfectly for the mean of observations, which indicates that those observations are independent."
   ]
  },
  {
   "cell_type": "markdown",
   "metadata": {},
   "source": [
    "The third question we are trying to answer is that is the true population mean really 98.6 degrees F? \n",
    "\n",
    "Because we need to compare one data set of human temperature with a single number the human temperature population mean, we are choosing one-sample test. And we will use t score instead of z score, because that we don't know the population standard deviation, but we do know the population mean. The question is transformed into a null hypothesis: the true mean of the data set is actually the population mean 98.6 degrees F. We will shift the data with population mean, calculate the t score, and compute p-value to test the null hypothesis."
   ]
  },
  {
   "cell_type": "code",
   "execution_count": 35,
   "metadata": {},
   "outputs": [
    {
     "name": "stdout",
     "output_type": "stream",
     "text": [
      "sample t_score =  -5.47592520208\n",
      "p_value of t test =  0.0\n"
     ]
    }
   ],
   "source": [
    "population_mean = 98.6\n",
    "sample_mean = np.mean(df['temperature'])\n",
    "sample_std = np.std(df['temperature'])\n",
    "sample_standard_error = sample_std/np.sqrt(len(df['temperature']))\n",
    "\n",
    "print('sample mean = ', sample_mean)\n",
    "print('sample std = ', sample_std)\n",
    "print('sample standard error = ', sample_standard_error)\n",
    "\n",
    "temp_shifted = df['temperature'] - sample_mean + population_mean\n",
    "\n",
    "def t_score(data, population_mean=98.6):\n",
    "    return (np.mean(data) - population_mean)/(np.std(data)/np.sqrt(len(data)))\n",
    "                                             \n",
    "bs_replicates_t = draw_bs_replicates(temp_shifted, t_score, 10000)                                               \n",
    "\n",
    "sample_t_score = (sample_mean - population_mean)/sample_standard_error\n",
    "print('sample t_score = ',sample_t_score)\n",
    "\n",
    "p_value_t = np.sum(bs_replicates_t <= sample_t_score)/10000   \n",
    "\n",
    "print('p value of t test = ', p_value_t)"
   ]
  },
  {
   "cell_type": "markdown",
   "metadata": {},
   "source": [
    "T score is a very small negative number, which is strongly against the null hypothesis. A Zero p value of t test rejects the null hypothesis and accepts the alternative hypothesis, which is the mean of human body temperature is lower than 98.6 degrees F.\n",
    "\n",
    "Since the sample size is over 30, z-test is also applicable. We are going to rerun the entire test again with z score as the test statistics. "
   ]
  },
  {
   "cell_type": "code",
   "execution_count": 36,
   "metadata": {},
   "outputs": [
    {
     "name": "stdout",
     "output_type": "stream",
     "text": [
      "sample z_score =  -0.48027041116080765\n",
      "p_value of z test =  0.0\n"
     ]
    }
   ],
   "source": [
    "def z_score(data, population_mean=98.6):\n",
    "    return (np.mean(data) - population_mean)/np.std(data)\n",
    "\n",
    "bs_replicates_z = draw_bs_replicates(temp_shifted, z_score, 10000)\n",
    "\n",
    "sample_z_score = (sample_mean - population_mean)/sample_std\n",
    "print('sample z_score = ', sample_z_score)\n",
    "\n",
    "p_value_z = np.sum(bs_replicates_z <= sample_z_score)/10000\n",
    "\n",
    "print('p value of z test = ', p_value_z)"
   ]
  },
  {
   "cell_type": "markdown",
   "metadata": {},
   "source": [
    "This round, z score is relative close to 0, which is not strongly against the null hypothesis. But the Zero p value of z test rejects the null hypothesis and accepts the alternative hypothesis, which is the mean of human body temperature is lower than 98.6 degree F. Even though, both t test and z test draw the same conclusion due to the Zero p values, t test is much better to reject the null hypothesis than z test."
   ]
  },
  {
   "cell_type": "markdown",
   "metadata": {},
   "source": [
    "The fourth question we are trying to answer is if we rerun both t test and z test with a smaller sample, such as 10 observations, what kind of results we will get."
   ]
  },
  {
   "cell_type": "code",
   "execution_count": 40,
   "metadata": {},
   "outputs": [
    {
     "name": "stdout",
     "output_type": "stream",
     "text": [
      "mean =  98.21\n",
      "std =  0.766093989012\n",
      "std error =  0.242260190704\n",
      "10 samples t_score =  -1.60983939981\n",
      "10 samples p value of t test =  0.0361\n",
      "10 samples z_score =  -0.509075917047\n",
      "10 samples p value of z test =  0.0384\n"
     ]
    }
   ],
   "source": [
    "population_mean = 98.6\n",
    "sample_10 = np.random.choice(df['temperature'], 10)\n",
    "sample_mean_10 = np.mean(sample_10)\n",
    "sample_std_10 = np.std(sample_10)\n",
    "sample_standard_error_10 = sample_std_10/np.sqrt(10)\n",
    "\n",
    "print('sample mean = ', sample_mean_10)\n",
    "print('sample std = ', sample_std_10)\n",
    "print('sample std error = ', sample_standard_error_10)\n",
    "\n",
    "temp_shifted_10 = sample_10 - sample_mean_10 + population_mean\n",
    "\n",
    "bs_replicates_t_10 = draw_bs_replicates(temp_shifted_10, t_score, 10000)\n",
    "\n",
    "sample_t_score_10 = (sample_mean_10 - population_mean) / sample_standard_error_10\n",
    "print('10 samples t_score = ', sample_t_score_10)\n",
    "\n",
    "p_value_t_10 = np.sum(bs_replicates_t_10 <= sample_t_score_10)/10000\n",
    "print('10 samples p value of t test = ', p_value_t_10)\n",
    "\n",
    "bs_replicates_z_10 = draw_bs_replicates(temp_shifted_10, z_score, 10000)\n",
    "\n",
    "sample_z_score_10 = (sample_mean_10 - population_mean) / sample_std_10\n",
    "print('10 samples z_score = ', sample_z_score_10)\n",
    "\n",
    "p_value_z_10 = np.sum(bs_replicates_z_10 <= sample_z_score_10)/10000\n",
    "print('10 samples p value of z test = ', p_value_z_10)"
   ]
  },
  {
   "cell_type": "markdown",
   "metadata": {},
   "source": [
    "After running the same boostrapping one-sample test with 10 data samples, the t_score is much smaller than z_score, which is better against the null hypothesis than z_score. So t test is the right choice for smaller samples. Even though we come to the same conclusion of testing the null hypothesis as the large data sample, we notice that p values of both tests are getting larger than the p values of last tests, which means when we have smaller data samples, p value becomes weaker to reject the null hypothesis. So a larger data set is crucial for our hypothesis test."
   ]
  },
  {
   "cell_type": "markdown",
   "metadata": {},
   "source": [
    "The fifth question we are trying to answer is at what temperature we should start considering someone's temperature is abnormal?"
   ]
  },
  {
   "cell_type": "code",
   "execution_count": 56,
   "metadata": {},
   "outputs": [
    {
     "name": "stdout",
     "output_type": "stream",
     "text": [
      "sample mean =  98.24923076923078\n",
      "sample std =  0.7303577789050377\n",
      "sample sample_standard_error =  0.0640566146952\n",
      "for confidence level 95%, the critical value is =  1.96\n",
      "sample margin error =  0.125550964803\n",
      "95% time the human temperature should fall in to  98.374781734  and  98.1236798044\n"
     ]
    }
   ],
   "source": [
    "print('sample mean = ', sample_mean)\n",
    "print('sample std = ', sample_std)\n",
    "print('sample sample_standard_error = ', sample_standard_error)\n",
    "\n",
    "critical_val = 1.96\n",
    "print('for confidence level 95%, the critical value is = ', critical_val)\n",
    "margin_error = critical_val*sample_standard_error\n",
    "print('sample margin error = ', margin_error)\n",
    "\n",
    "normal_temp_up = sample_mean + margin_error\n",
    "normal_temp_low = sample_mean - margin_error\n",
    "print('95% time the human temperature should fall in to ', normal_temp_up, \" and \", normal_temp_low)"
   ]
  },
  {
   "cell_type": "markdown",
   "metadata": {},
   "source": [
    "Given the data sample we have, for any human temperature that is either above 98.37 degrees F or below 98.12 degrees F, we should consider it abnormal."
   ]
  },
  {
   "cell_type": "markdown",
   "metadata": {},
   "source": [
    "The last question we are trying to answer is that is there any significant difference between males and females in normal temperature?\n",
    "\n",
    "Since we need to compare two sets of data, male body temperature and female body temperature, we are going to do a two-sample test. Our null hypothesis is that the means of male body temperature and female body temperature are the same. This time we are using permutation sampling to perform the hypothesis test."
   ]
  },
  {
   "cell_type": "code",
   "execution_count": 75,
   "metadata": {},
   "outputs": [
    {
     "name": "stdout",
     "output_type": "stream",
     "text": [
      "p-value =  0.989\n"
     ]
    }
   ],
   "source": [
    "male_indices = df['gender'] == 'M'\n",
    "female_indices = df['gender'] == 'F'\n",
    "\n",
    "male_temp = df.loc[male_indices, 'temperature']\n",
    "female_temp = df.loc[female_indices, 'temperature']\n",
    "\n",
    "def permutation_sample(data1, data2):\n",
    "    \n",
    "    data = np.concatenate((data1, data2))\n",
    "    \n",
    "    permuated_data = np.random.permutation(data)\n",
    "    \n",
    "    perm_sample_1 = permuated_data[:len(data1)]\n",
    "    perm_sample_2 = permuated_data[len(data1):]\n",
    "    \n",
    "    return perm_sample_1, perm_sample_2\n",
    "\n",
    "def draw_perm_reps(data1, data2,func, size=1):\n",
    "    \n",
    "    perm_replicates = np.empty(size)\n",
    "    for i in range(size):\n",
    "        perm_sample_1, perm_sample_2 = permutation_sample(data1, data2)\n",
    "        perm_replicates[i] = func(perm_sample_1, perm_sample_2)\n",
    "        \n",
    "    return perm_replicates\n",
    "\n",
    "def diff_means(data1, data2):\n",
    "    diff = np.mean(data1) - np.mean(data2)\n",
    "    return diff\n",
    "\n",
    "empirical_diff_means = diff_means(male_temp, female_temp)\n",
    "\n",
    "perm_replicates = draw_perm_reps(male_temp, female_temp, diff_means, size=10000)\n",
    "\n",
    "p = np.sum(perm_replicates >= empirical_diff_means)/10000\n",
    "print('p-value = ', p)\n"
   ]
  },
  {
   "cell_type": "markdown",
   "metadata": {},
   "source": [
    "The high p value failed to reject the null hypothesis, so there is no significant difference between male and female in normal temperature."
   ]
  },
  {
   "cell_type": "markdown",
   "metadata": {},
   "source": [
    "Going back to the original question, based on the data given in this exercise with both t test and z test, 37 C or 98.6 F dosen't seem hold as the true population mean of human body temperature statistically. Our data samples are large and independent, so both t and z tests are applicable. But when the sample size gets too small, t test is best choice for the statistical test. Based on the margin errors calcuated based on 95% confidence interval, the normal human temperature range is 98.12 and 98.37 , and any temperature outside the normal range should be considered abnormal. There is no significant difference between male and female in normal temperature based on the permuation test. "
   ]
  }
 ],
 "metadata": {
  "kernelspec": {
   "display_name": "Python 3",
   "language": "python",
   "name": "python3"
  },
  "language_info": {
   "codemirror_mode": {
    "name": "ipython",
    "version": 3
   },
   "file_extension": ".py",
   "mimetype": "text/x-python",
   "name": "python",
   "nbconvert_exporter": "python",
   "pygments_lexer": "ipython3",
   "version": "3.6.1"
  }
 },
 "nbformat": 4,
 "nbformat_minor": 1
}
